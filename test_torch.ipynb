{
 "cells": [
  {
   "cell_type": "code",
   "execution_count": 1,
   "metadata": {},
   "outputs": [],
   "source": [
    "import math\n",
    "import matplotlib.pyplot as plt\n",
    "import numpy as np\n",
    "import pandas as pd\n",
    "import seaborn as sns\n",
    "import torch\n",
    "import torch.nn as nn\n",
    "import torch.nn.functional as F\n",
    "import torchvision\n",
    "from sklearn import datasets\n",
    "from sklearn.preprocessing import StandardScaler\n",
    "from sklearn.model_selection import train_test_split\n",
    "from torch.utils.data import Dataset, DataLoader"
   ]
  },
  {
   "cell_type": "code",
   "execution_count": 17,
   "metadata": {},
   "outputs": [
    {
     "data": {
      "text/plain": [
       "device(type='cuda')"
      ]
     },
     "execution_count": 17,
     "metadata": {},
     "output_type": "execute_result"
    }
   ],
   "source": [
    "device = torch.device(\"cuda\" if torch.cuda.is_available() else \"cpu\")\n",
    "device"
   ]
  },
  {
   "attachments": {},
   "cell_type": "markdown",
   "metadata": {},
   "source": [
    "### Working with Tensors"
   ]
  },
  {
   "cell_type": "code",
   "execution_count": 3,
   "metadata": {},
   "outputs": [
    {
     "name": "stdout",
     "output_type": "stream",
     "text": [
      "torch.Size([3, 3])\n",
      "cuda:0\n",
      "tensor([[0.5244, 0.8491, 1.2822],\n",
      "        [1.3184, 1.1992, 0.8613],\n",
      "        [1.6533, 0.6348, 1.5820]], device='cuda:0', dtype=torch.float16)\n",
      "tensor([[0.0681, 0.1674, 0.3958],\n",
      "        [0.3848, 0.3474, 0.0166],\n",
      "        [0.6572, 0.0561, 0.6079]], device='cuda:0', dtype=torch.float16)\n",
      "tensor([[1.0547, 0.4082, 1.0137],\n",
      "        [0.7485, 0.4849, 0.9429],\n",
      "        [1.5391, 0.5640, 1.5615]], device='cuda:0', dtype=torch.float16)\n",
      "tensor(0.2881, device='cuda:0', dtype=torch.float16)\n",
      "tensor([0.2881, 0.5381, 0.5176], device='cuda:0', dtype=torch.float16)\n",
      "tensor([0.2881, 0.4355, 0.6646], device='cuda:0', dtype=torch.float16)\n"
     ]
    },
    {
     "data": {
      "text/plain": [
       "tensor([[0.2881],\n",
       "        [0.5381],\n",
       "        [0.5176],\n",
       "        [0.4355],\n",
       "        [0.7090],\n",
       "        [0.0197],\n",
       "        [0.6646],\n",
       "        [0.5288],\n",
       "        [0.9253]], device='cuda:0', dtype=torch.float16)"
      ]
     },
     "execution_count": 3,
     "metadata": {},
     "output_type": "execute_result"
    }
   ],
   "source": [
    "t1 = torch.rand(3, 3, device=device,  dtype=torch.float16)\n",
    "\n",
    "print(t1.size())\n",
    "print(t1.device)\n",
    "\n",
    "t2 = torch.rand(3, 3, device=device,  dtype=torch.float16)\n",
    "\n",
    "# Element-wise\n",
    "print(t1 + t2)\n",
    "print(t1 * t2)\n",
    "\n",
    "# Matrix multiplication\n",
    "print(t1 @ t2)\n",
    "\n",
    "# Slicing\n",
    "print(t1[0, 0])\n",
    "print(t1[0, :])\n",
    "print(t1[:, 0])\n",
    "\n",
    "t1.view(-1, 1)"
   ]
  },
  {
   "attachments": {},
   "cell_type": "markdown",
   "metadata": {},
   "source": [
    "PyTorch Tensors + NumPy"
   ]
  },
  {
   "cell_type": "code",
   "execution_count": 4,
   "metadata": {},
   "outputs": [
    {
     "data": {
      "text/plain": [
       "(tensor([1., 1., 1., 1., 1.]),\n",
       " array([1., 1., 1., 1., 1.], dtype=float32),\n",
       " array([1., 1., 1., 1., 1.]),\n",
       " tensor([1., 1., 1., 1., 1.], device='cuda:0', dtype=torch.float64))"
      ]
     },
     "execution_count": 4,
     "metadata": {},
     "output_type": "execute_result"
    }
   ],
   "source": [
    "a = torch.ones(5)\n",
    "b = a.numpy()  # Pointer to the same memory!\n",
    "\n",
    "c = np.ones(5)\n",
    "d = torch.from_numpy(c)  # Pointer to the same memory, again!\n",
    "\n",
    "d = d.to(device)  # Move to GPU\n",
    "\n",
    "a, b, c, d"
   ]
  },
  {
   "attachments": {},
   "cell_type": "markdown",
   "metadata": {},
   "source": [
    "### PyTorch AutoGrad\n",
    "\n",
    "Theoretical:\n",
    "\n",
    "* Jacobian Matrix, Chain Rule"
   ]
  },
  {
   "cell_type": "code",
   "execution_count": 5,
   "metadata": {},
   "outputs": [
    {
     "data": {
      "text/plain": [
       "tensor([4.0305, 1.5738, 1.7052])"
      ]
     },
     "execution_count": 5,
     "metadata": {},
     "output_type": "execute_result"
    }
   ],
   "source": [
    "x = torch.randn(3, requires_grad=True)\n",
    "y = x + 2\n",
    "z = y * y * 2\n",
    "z = z.mean()\n",
    "\n",
    "v = torch.tensor([0.1, 1.0, 0.001], dtype=torch.float32)\n",
    "z.backward()  # dz/dx, pass v to multiply by the gradient\n",
    "\n",
    "# Prevent gradient tracking\n",
    "# x.requires_grad_(False)\n",
    "# y = x.detach()\n",
    "# with torch.no_grad():\n",
    "#     pass\n",
    "\n",
    "x.grad"
   ]
  },
  {
   "cell_type": "code",
   "execution_count": 6,
   "metadata": {},
   "outputs": [
    {
     "name": "stdout",
     "output_type": "stream",
     "text": [
      "tensor([3., 3., 3., 3.])\n",
      "tensor([3., 3., 3., 3.])\n",
      "tensor([3., 3., 3., 3.])\n"
     ]
    }
   ],
   "source": [
    "weights = torch.ones(4, requires_grad=True)\n",
    "epochs = 3\n",
    "\n",
    "for epoch in range(epochs):\n",
    "    model_output = (weights * 3).sum()\n",
    "    model_output.backward()\n",
    "    \n",
    "    print(weights.grad)\n",
    "    \n",
    "    # Clean the gradient\n",
    "    weights.grad.zero_()"
   ]
  },
  {
   "attachments": {},
   "cell_type": "markdown",
   "metadata": {},
   "source": [
    "### Backpropagation\n",
    "\n",
    "Chain Rule:\n",
    "\n",
    "$$\\frac{\\partial z}{\\partial x} = \\frac{\\partial z}{\\partial y} * \\frac{\\partial y}{\\partial x}$$\n",
    "\n",
    "Computational Graph:\n",
    "\n",
    "* Graph is created and updated on every operation\n",
    "* Allows the calculation of local gradients\n",
    "* Calculate loss:\n",
    "\n",
    "$$\\frac{\\partial Loss}{\\partial x} = \\frac{\\partial Loss}{\\partial z} * \\frac{\\partial z}{\\partial x}$$\n",
    "\n",
    "Steps: \n",
    "1. Forward pass: Calculate loss\n",
    "2. Compute local gradients\n",
    "3. Backward pass: Calculate dLoss/dWeights using chain rule"
   ]
  },
  {
   "cell_type": "code",
   "execution_count": 7,
   "metadata": {},
   "outputs": [
    {
     "name": "stdout",
     "output_type": "stream",
     "text": [
      "Loss:\t\t tensor(1., grad_fn=<PowBackward0>)\n",
      "Gradient:\t tensor(-2.)\n"
     ]
    }
   ],
   "source": [
    "x = torch.tensor(1.0)\n",
    "y = torch.tensor(2.0)\n",
    "\n",
    "w = torch.tensor(1.0, requires_grad=True)\n",
    "\n",
    "# Forward pass and compute the loss\n",
    "y_hat = w * x\n",
    "loss = (y_hat - y) ** 2\n",
    "\n",
    "print(\"Loss:\\t\\t\", loss)\n",
    "\n",
    "# Backward pass\n",
    "loss.backward()\n",
    "print(\"Gradient:\\t\", w.grad)"
   ]
  },
  {
   "attachments": {},
   "cell_type": "markdown",
   "metadata": {},
   "source": [
    "### Gradient Descent using Autograd\n",
    "\n",
    "Training pipeline:\n",
    "1. Design model (input, output size, forward pass)\n",
    "2. Construct loss and optimizer\n",
    "3. Training loop\n",
    "    * Forward pass: compute prediction\n",
    "    * Backward pass: gradients\n",
    "    * Update weights"
   ]
  },
  {
   "cell_type": "code",
   "execution_count": 8,
   "metadata": {},
   "outputs": [
    {
     "name": "stdout",
     "output_type": "stream",
     "text": [
      "Prediction before training: f(5) = -1.418\n",
      "Epoch 50: w = 1.822, loss = 0.04695665\n",
      "Epoch 100: w = 1.916, loss = 0.01039116\n",
      "Epoch 150: w = 1.961, loss = 0.00229950\n",
      "Epoch 200: w = 1.982, loss = 0.00050886\n",
      "Epoch 250: w = 1.991, loss = 0.00011260\n",
      "Epoch 300: w = 1.996, loss = 0.00002492\n",
      "Epoch 350: w = 1.998, loss = 0.00000551\n",
      "Epoch 400: w = 1.999, loss = 0.00000122\n",
      "Epoch 450: w = 2.000, loss = 0.00000027\n",
      "Epoch 500: w = 2.000, loss = 0.00000006\n",
      "Prediction after training: f(5) = 10.000\n"
     ]
    }
   ],
   "source": [
    "X = torch.tensor([[1], [2], [3], [4]], dtype=torch.float32)\n",
    "Y = torch.tensor([[2], [4], [6], [8]], dtype=torch.float32)\n",
    "\n",
    "X_test = torch.tensor([5], dtype=torch.float32)\n",
    "\n",
    "n_samples, n_features = X.shape\n",
    "\n",
    "input_size = n_features\n",
    "output_size = n_features\n",
    "\n",
    "model = nn.Linear(input_size, output_size)\n",
    "\n",
    "# w = torch.tensor(0.0, dtype=torch.float32, requires_grad=True)\n",
    "\n",
    "# model prediction, manually\n",
    "# def forward(x):\n",
    "#     return w * x\n",
    "\n",
    "# loss (MSE), manually\n",
    "# def loss(y, y_predicted):\n",
    "#     return ((y_predicted-y)**2).mean()\n",
    "\n",
    "# gradient, manually\n",
    "# MSE = 1/n * (w*x - y) ** 2\n",
    "# dJ/dw = 1/n ex (w*x - y)\n",
    "# def gradient(x, y, y_predicted):\n",
    "#     return np.dot(2*x, y_predicted-y) / len(x)\n",
    "\n",
    "class LinearRegression(nn.Module):\n",
    "    \n",
    "    def __init__(self, input_dim, ouput_dim):\n",
    "        super(LinearRegression, self).__init__()\n",
    "        self.lin = nn.Linear(input_dim, ouput_dim)\n",
    "        \n",
    "    def forward(self, x):\n",
    "        return self.lin(x)\n",
    "\n",
    "\n",
    "model = LinearRegression(input_size, output_size)\n",
    "\n",
    "print(f\"Prediction before training: f(5) = {model(X_test).item():.3f}\")\n",
    "\n",
    "learning_rate = 0.05\n",
    "n_iters = 500\n",
    "\n",
    "loss = nn.MSELoss()\n",
    "optimizer = torch.optim.SGD(model.parameters(), lr=learning_rate)\n",
    "\n",
    "for epoch in range(n_iters):\n",
    "    # prediction = forward pass\n",
    "    y_pred = model(X)\n",
    "    \n",
    "    # loss\n",
    "    l = loss(Y, y_pred)\n",
    "    \n",
    "    # gradients manually\n",
    "    # dw = gradient(X, Y, y_pred)\n",
    "    \n",
    "    # gradient = backward pass\n",
    "    l.backward()\n",
    "    \n",
    "    # update weights\n",
    "    optimizer.step()\n",
    "        \n",
    "    # zero gradients\n",
    "    optimizer.zero_grad()\n",
    "    \n",
    "    if (epoch + 1) % (n_iters / 10) == 0:\n",
    "        [w, b] = model.parameters()\n",
    "        print(f\"Epoch {epoch+1}: w = {w[0][0].item():.3f}, loss = {l:.8f}\")\n",
    "\n",
    "print(f\"Prediction after training: f(5) = {model(X_test).item():.3f}\")"
   ]
  },
  {
   "cell_type": "markdown",
   "metadata": {},
   "source": [
    "### Linear Regression"
   ]
  },
  {
   "cell_type": "code",
   "execution_count": 9,
   "metadata": {},
   "outputs": [
    {
     "name": "stdout",
     "output_type": "stream",
     "text": [
      "Epoch: 10, loss = 4327.0513\n",
      "Epoch: 20, loss = 3231.5046\n",
      "Epoch: 30, loss = 2438.1963\n",
      "Epoch: 40, loss = 1863.1646\n",
      "Epoch: 50, loss = 1445.9622\n",
      "Epoch: 60, loss = 1143.0083\n",
      "Epoch: 70, loss = 922.8420\n",
      "Epoch: 80, loss = 762.7228\n",
      "Epoch: 90, loss = 646.1957\n",
      "Epoch: 100, loss = 561.3403\n"
     ]
    },
    {
     "data": {
      "image/png": "[encoded data removed]",
      "text/plain": [
       "<Figure size 640x480 with 1 Axes>"
      ]
     },
     "metadata": {},
     "output_type": "display_data"
    }
   ],
   "source": [
    "# Prepare Data\n",
    "X_numpy, y_numpy = datasets.make_regression(n_samples=100, n_features=1, noise=20, random_state=1)\n",
    "\n",
    "X = torch.from_numpy(X_numpy.astype(np.float32))\n",
    "y = torch.from_numpy(y_numpy.astype(np.float32))\n",
    "y = y.view(y.shape[0], 1)\n",
    "\n",
    "n_samples, n_features = X.shape\n",
    "\n",
    "# Model\n",
    "input_size = n_features\n",
    "output_size = 1\n",
    "\n",
    "model = nn.Linear(input_size, output_size)\n",
    "\n",
    "# Loss, Optimizer\n",
    "learning_rate = 0.01\n",
    "criterion = nn.MSELoss()\n",
    "optimizer = torch.optim.SGD(model.parameters(), lr=learning_rate)\n",
    "\n",
    "# Training Loop\n",
    "n_iters = 100\n",
    "\n",
    "for epoch in range(n_iters):\n",
    "    # Forward pass, loss\n",
    "    y_pred = model(X)\n",
    "    loss = criterion(y_pred, y)\n",
    "    \n",
    "    # Backward pass\n",
    "    loss.backward()\n",
    "    \n",
    "    # Update\n",
    "    optimizer.step()\n",
    "    optimizer.zero_grad()\n",
    "    \n",
    "    if (epoch + 1) % 10 == 0:\n",
    "        print(f\"Epoch: {epoch+1}, loss = {loss.item():.4f}\")\n",
    "        \n",
    "# Plot\n",
    "predicted = model(X).detach().numpy()\n",
    "\n",
    "sns.set()\n",
    "plt.plot(X_numpy, y_numpy, \"ro\")\n",
    "plt.plot(X_numpy, predicted, \"b\")\n",
    "plt.title(\"PyTorch Linear Regression Example\")\n",
    "plt.show()"
   ]
  },
  {
   "cell_type": "markdown",
   "metadata": {},
   "source": [
    "### Logistic Regression"
   ]
  },
  {
   "cell_type": "code",
   "execution_count": 10,
   "metadata": {},
   "outputs": [
    {
     "name": "stdout",
     "output_type": "stream",
     "text": [
      "Epoch: 10, loss = 0.6563\n",
      "Epoch: 20, loss = 0.5401\n",
      "Epoch: 30, loss = 0.4665\n",
      "Epoch: 40, loss = 0.4152\n",
      "Epoch: 50, loss = 0.3772\n",
      "Epoch: 60, loss = 0.3475\n",
      "Epoch: 70, loss = 0.3235\n",
      "Epoch: 80, loss = 0.3037\n",
      "Epoch: 90, loss = 0.2869\n",
      "Epoch: 100, loss = 0.2725\n",
      "Accuracy = 0.9035\n"
     ]
    }
   ],
   "source": [
    "# Prepare data\n",
    "bc = datasets.load_breast_cancer()\n",
    "X, y = bc.data, bc.target\n",
    "\n",
    "n_samples, n_features = X.shape\n",
    "\n",
    "X_train, X_test, y_train, y_test = train_test_split(X, y, test_size=0.2, random_state=1234)\n",
    "\n",
    "sc = StandardScaler()\n",
    "X_train = sc.fit_transform(X_train)\n",
    "X_test = sc.transform(X_test)\n",
    "\n",
    "X_train = torch.from_numpy(X_train.astype(np.float32))\n",
    "X_test = torch.from_numpy(X_test.astype(np.float32))\n",
    "y_train = torch.from_numpy(y_train.astype(np.float32))\n",
    "y_test = torch.from_numpy(y_test.astype(np.float32))\n",
    "\n",
    "y_train = y_train.view(y_train.shape[0], 1)\n",
    "y_test = y_test.view(y_test.shape[0], 1)\n",
    "\n",
    "# Model\n",
    "class LogisticRegression(nn.Module):\n",
    "    \n",
    "    def __init__(self, n_input_features):\n",
    "        super(LogisticRegression, self).__init__()\n",
    "        self.linear = nn.Linear(n_input_features, 1)\n",
    "    \n",
    "    def forward(self, x):\n",
    "        y_pred = torch.sigmoid(self.linear(x))\n",
    "        return y_pred\n",
    "    \n",
    "model = LogisticRegression(n_features)\n",
    "\n",
    "# Loss, Optimizer\n",
    "learning_rate = 0.01\n",
    "criterion = nn.BCELoss()\n",
    "optimizer = torch.optim.SGD(model.parameters(), lr=learning_rate)\n",
    "\n",
    "# Training loop\n",
    "n_iters = 100\n",
    "\n",
    "for epoch in range(n_iters):\n",
    "    # Forward pass, loss\n",
    "    y_pred = model(X_train)\n",
    "    loss = criterion(y_pred, y_train)\n",
    "    \n",
    "    # Backward pass\n",
    "    loss.backward()\n",
    "    \n",
    "    # Updates\n",
    "    optimizer.step()\n",
    "    optimizer.zero_grad()\n",
    "    \n",
    "    if (epoch + 1) % 10 == 0:\n",
    "        print(f\"Epoch: {epoch+1}, loss = {loss.item():.4f}\")\n",
    "        \n",
    "with torch.no_grad():\n",
    "    y_pred = model(X_test)\n",
    "    y_pred_classes = y_pred.round()\n",
    "    acc = y_pred_classes.eq(y_test).sum() / float(y_test.shape[0])\n",
    "    print(f\"Accuracy = {acc:.4f}\")"
   ]
  },
  {
   "cell_type": "markdown",
   "metadata": {},
   "source": [
    "### Datasets, Data Loader\n",
    "\n",
    "Terminology:\n",
    "\n",
    "* epoch = 1 forward and backward pass of all training samples\n",
    "* batch_size = number of training samples in one forward & backward pass\n",
    "* number of iterations = number of passes, each pass using [batch_size] number of samples\n",
    "\n",
    "e.g. 100 samples, batch_size=20 -> 100/20 = 5 iterations for 1 epoch"
   ]
  },
  {
   "cell_type": "code",
   "execution_count": 11,
   "metadata": {},
   "outputs": [
    {
     "name": "stdout",
     "output_type": "stream",
     "text": [
      "Epoch 1/2, step 5/45, inputs torch.Size([4, 13])\n",
      "Epoch 1/2, step 10/45, inputs torch.Size([4, 13])\n",
      "Epoch 1/2, step 15/45, inputs torch.Size([4, 13])\n",
      "Epoch 1/2, step 20/45, inputs torch.Size([4, 13])\n",
      "Epoch 1/2, step 25/45, inputs torch.Size([4, 13])\n",
      "Epoch 1/2, step 30/45, inputs torch.Size([4, 13])\n",
      "Epoch 1/2, step 35/45, inputs torch.Size([4, 13])\n",
      "Epoch 1/2, step 40/45, inputs torch.Size([4, 13])\n",
      "Epoch 1/2, step 45/45, inputs torch.Size([2, 13])\n",
      "Epoch 2/2, step 5/45, inputs torch.Size([4, 13])\n",
      "Epoch 2/2, step 10/45, inputs torch.Size([4, 13])\n",
      "Epoch 2/2, step 15/45, inputs torch.Size([4, 13])\n",
      "Epoch 2/2, step 20/45, inputs torch.Size([4, 13])\n",
      "Epoch 2/2, step 25/45, inputs torch.Size([4, 13])\n",
      "Epoch 2/2, step 30/45, inputs torch.Size([4, 13])\n",
      "Epoch 2/2, step 35/45, inputs torch.Size([4, 13])\n",
      "Epoch 2/2, step 40/45, inputs torch.Size([4, 13])\n",
      "Epoch 2/2, step 45/45, inputs torch.Size([2, 13])\n"
     ]
    }
   ],
   "source": [
    "class WineDataset(Dataset):\n",
    "    \n",
    "    def __init__(self, transform=None):\n",
    "        xy = np.loadtxt(\"data/wine/wine.csv\", delimiter=',', dtype=np.float32, skiprows=1)\n",
    "        \n",
    "        self.x = xy[:, 1:]\n",
    "        self.y = xy[:, [0]]\n",
    "        \n",
    "        self.n_samples = xy.shape[0]\n",
    "        \n",
    "        self.transform = transform\n",
    "    \n",
    "    def __getitem__(self, index):\n",
    "        sample = self.x[index], self.y[index]\n",
    "    \n",
    "        if self.transform:\n",
    "            sample = self.transform(sample)\n",
    "            \n",
    "        return sample\n",
    "    \n",
    "    def __len__(self):\n",
    "        return self.n_samples\n",
    "    \n",
    "\n",
    "class ToTensor:\n",
    "    \n",
    "    def __call__(self, sample):\n",
    "        inputs, targets = sample\n",
    "        return torch.from_numpy(inputs), torch.from_numpy(targets)\n",
    "    \n",
    "    \n",
    "class MulTransform:\n",
    "    \n",
    "    def __init__(self, factor):\n",
    "        self.factor = factor\n",
    "        \n",
    "    def __call__(self, sample):\n",
    "        inputs, target = sample\n",
    "        inputs *= self.factor\n",
    "        return inputs, target\n",
    "\n",
    "    \n",
    "dataset = WineDataset()\n",
    "dataloader = DataLoader(dataset=dataset, batch_size=4, shuffle=True)\n",
    "\n",
    "n_epochs = 2\n",
    "total_samples = len(dataset)\n",
    "n_iters = math.ceil(total_samples/4)\n",
    "\n",
    "for epoch in range(n_epochs):\n",
    "    for i, (inputs, labels) in enumerate(dataloader):\n",
    "        # forward backward update\n",
    "        \n",
    "        if (i+1) % 5 == 0:\n",
    "            print(f\"Epoch {epoch+1}/{n_epochs}, step {i+1}/{n_iters}, inputs {inputs.shape}\")"
   ]
  },
  {
   "cell_type": "markdown",
   "metadata": {},
   "source": [
    "### Dataset Transforms"
   ]
  },
  {
   "cell_type": "code",
   "execution_count": 12,
   "metadata": {},
   "outputs": [
    {
     "name": "stdout",
     "output_type": "stream",
     "text": [
      "[1.423e+01 1.710e+00 2.430e+00 1.560e+01 1.270e+02 2.800e+00 3.060e+00\n",
      " 2.800e-01 2.290e+00 5.640e+00 1.040e+00 3.920e+00 1.065e+03]\n",
      "<class 'numpy.ndarray'> <class 'numpy.ndarray'>\n",
      "tensor([5.6920e+01, 6.8400e+00, 9.7200e+00, 6.2400e+01, 5.0800e+02, 1.1200e+01,\n",
      "        1.2240e+01, 1.1200e+00, 9.1600e+00, 2.2560e+01, 4.1600e+00, 1.5680e+01,\n",
      "        4.2600e+03])\n",
      "<class 'torch.Tensor'> <class 'torch.Tensor'>\n"
     ]
    }
   ],
   "source": [
    "# dataset = torchvision.datasets.MNIST(root=\"./data\", transform=torchvision.transforms.ToTensor())\n",
    "dataset = WineDataset(transform=None)\n",
    "first_data = dataset[0]\n",
    "features, labels = first_data\n",
    "print(features)\n",
    "print(type(features), type(labels))\n",
    "\n",
    "composed = torchvision.transforms.Compose([ToTensor(), MulTransform(4)])\n",
    "dataset = WineDataset(transform=composed)\n",
    "first_data = dataset[0]\n",
    "features, labels = first_data\n",
    "print(features)\n",
    "print(type(features), type(labels))"
   ]
  },
  {
   "cell_type": "markdown",
   "metadata": {},
   "source": [
    "### Softmax & Cross-Entropy\n",
    "\n",
    "**Softmax**:\n",
    "\n",
    "$$\n",
    "S(y_i) = \\frac{e^{y_i}}{\\sum e^{y_i}} \n",
    "$$\n",
    "\n",
    "**Cross-Entropy**:\n",
    "\n",
    "$$\n",
    "D(\\hat Y, Y) = - \\frac{1}{n} \\sum Y_i * log(\\hat Y_i)\n",
    "$$\n",
    "\n",
    "* $CE$ is low if prediction is good\n",
    "* $Y$ is one-hot encoded\n",
    "* $\\hat Y$ are probabilities"
   ]
  },
  {
   "cell_type": "code",
   "execution_count": 13,
   "metadata": {},
   "outputs": [
    {
     "name": "stdout",
     "output_type": "stream",
     "text": [
      "Numpy softmax: [0.65900114 0.24243297 0.09856589]\n",
      "Torch softmax: tensor([0.6590, 0.2424, 0.0986], dtype=torch.float64)\n",
      "Loss1 numpy: 0.3567\n",
      "Loss2 numpy: 2.3026\n",
      "Loss1 torch: 0.3018\n",
      "Loss2 torch: 1.6242\n"
     ]
    },
    {
     "data": {
      "text/plain": [
       "(tensor([2, 0, 1]), tensor([0, 2, 1]))"
      ]
     },
     "execution_count": 13,
     "metadata": {},
     "output_type": "execute_result"
    }
   ],
   "source": [
    "# Manually\n",
    "def softmax(x):\n",
    "    return np.exp(x) / np.sum(np.exp(x), axis=0)\n",
    "\n",
    "def cross_entropy(actual, predicted):\n",
    "    loss = -np.sum(actual * np.log(predicted))\n",
    "    return loss  # / float(predicted.shape[0])\n",
    "\n",
    "x = np.array([2.0, 1.0, 0.1])\n",
    "print(\"Numpy softmax:\", softmax(x))\n",
    "\n",
    "x = torch.from_numpy(x)\n",
    "print(\"Torch softmax:\", torch.softmax(x, dim=0))\n",
    "\n",
    "# Y must be one hot encoded\n",
    "# if class 0: [1 0 0]\n",
    "# if class 1: [0 1 0]\n",
    "# if class 2: [0 0 1]\n",
    "Y = np.array([1, 0, 0])\n",
    "\n",
    "# Y_pred has probabilities\n",
    "Y_pred_good = np.array([0.7, 0.2, 0.1])\n",
    "Y_pred_bad = np.array([0.1, 0.3, 0.6])\n",
    "\n",
    "l1 = cross_entropy(Y, Y_pred_good)\n",
    "l2 = cross_entropy(Y, Y_pred_bad)\n",
    "\n",
    "print(f\"Loss1 numpy: {l1:.4f}\")\n",
    "print(f\"Loss2 numpy: {l2:.4f}\")\n",
    "\n",
    "loss = nn.CrossEntropyLoss()\n",
    "\n",
    "Y = torch.tensor([2, 0, 1])\n",
    "# nsamples * nclasses = 3*3\n",
    "Y_pred_good = torch.tensor([[0.1, 1.0, 2.1], [2.0, 1.0, 0.1], [0.1, 3.0, 0.1]])\n",
    "Y_pred_bad = torch.tensor([[2.1, 1.0, 0.1], [0.1, 1.0, 2.1], [0.1, 3.0, 0.1]])\n",
    " \n",
    "l1 = loss(Y_pred_good, Y)\n",
    "l2 = loss(Y_pred_bad, Y)\n",
    "\n",
    "print(f\"Loss1 torch: {l1.item():.4f}\")\n",
    "print(f\"Loss2 torch: {l2.item():.4f}\")\n",
    "\n",
    "_, prediction1 = torch.max(Y_pred_good, 1)\n",
    "_, prediction2 = torch.max(Y_pred_bad, 1)\n",
    "\n",
    "prediction1, prediction2"
   ]
  },
  {
   "cell_type": "markdown",
   "metadata": {},
   "source": [
    "### Activation Functions\n",
    "\n",
    "* used to perform more complex tasks\n",
    "* else, it would be just a big linear regression model\n",
    "\n",
    "Examples:\n",
    "\n",
    "* Step Function $f(x) = \\begin{align}\\begin{cases}1 & x \\ge 0 \\\\ 0 & x < 0\\end{cases}\\end{align}$\n",
    "* Sigmoid Function $f(x) = \\frac{1}{1+e^{-x}}$ -> Last layer in binary classification\n",
    "* TanH Function $f(x) = \\frac{2}{1+e^{-2x}} - 1$ -> hidden layer\n",
    "* ReLU $f(x) = max(0, x)$ -> hidden layers (default)\n",
    "* Leaky ReLU $f(x) = \\begin{align}\\begin{cases}x & x \\ge 0 \\\\ a*x & x < 0\\end{cases}\\end{align}$ -> solves vanishing gradient problem\n",
    "* Softmax $S(y_i) = \\frac{e^{y_i}}{\\sum e^{y_i}}$ -> Last layer in multi class classification"
   ]
  },
  {
   "cell_type": "code",
   "execution_count": 14,
   "metadata": {},
   "outputs": [],
   "source": [
    "# Option 1 (create nn modules)\n",
    "class NeuralNet(nn.Module):\n",
    "    \n",
    "    def __init__(self, input_size, hidden_size):\n",
    "        super(NeuralNet, self).__init__()\n",
    "        self.linear1 = nn.Linear(input_size, hidden_size)\n",
    "        self.relu = nn.ReLU()\n",
    "        self.linear2 = nn.Linear(hidden_size, 1)\n",
    "        self.sigmoid = nn.Sigmoid()\n",
    "        \n",
    "    def forward(self, x):\n",
    "        out = self.linear1(x)\n",
    "        out = self.relu(out)\n",
    "        out = self.linear2(out)\n",
    "        out = self.sigmoid(out)\n",
    "        return out\n",
    "    \n",
    "\n",
    "# Option 2 (use activation functions directly in forward pass)\n",
    "class NeuralNet(nn.Module):\n",
    "    \n",
    "    def __init__(self, input_size, hidden_size):\n",
    "        super(NeuralNet, self).__init__()\n",
    "        self.linear1 = nn.Linear(input_size, hidden_size)\n",
    "        self.linear2 = nn.Linear(hidden_size, 1)\n",
    "        \n",
    "    def forward(self, x):\n",
    "        out = torch.relu(self.linear1(x))\n",
    "        out = torch.sigmoid(self.linear2(out))\n",
    "        return out"
   ]
  },
  {
   "cell_type": "markdown",
   "metadata": {},
   "source": [
    "### Feed-Forward Network"
   ]
  },
  {
   "cell_type": "code",
   "execution_count": 23,
   "metadata": {},
   "outputs": [
    {
     "name": "stdout",
     "output_type": "stream",
     "text": [
      "Using device 'cuda'\n",
      "Epoch 1/2, step 100/600, loss = 0.5258\n",
      "Epoch 1/2, step 200/600, loss = 0.3907\n",
      "Epoch 1/2, step 300/600, loss = 0.2044\n",
      "Epoch 1/2, step 400/600, loss = 0.2055\n",
      "Epoch 1/2, step 500/600, loss = 0.3171\n",
      "Epoch 1/2, step 600/600, loss = 0.2231\n",
      "Epoch 2/2, step 100/600, loss = 0.2085\n",
      "Epoch 2/2, step 200/600, loss = 0.1962\n",
      "Epoch 2/2, step 300/600, loss = 0.2922\n",
      "Epoch 2/2, step 400/600, loss = 0.0787\n",
      "Epoch 2/2, step 500/600, loss = 0.1009\n",
      "Epoch 2/2, step 600/600, loss = 0.1933\n",
      "Accuracy = 95.63 %\n"
     ]
    }
   ],
   "source": [
    "input_size = 784  # 28x28 images\n",
    "hidden_size = 100\n",
    "num_classes = 10\n",
    "num_epochs = 2\n",
    "batch_size = 100\n",
    "learning_rate = 0.001\n",
    "\n",
    "training_dataset = torchvision.datasets.MNIST(root=\"./data\", train=True, transform=torchvision.transforms.ToTensor())\n",
    "test_dataset = torchvision.datasets.MNIST(root=\"./data\", train=False, transform=torchvision.transforms.ToTensor())\n",
    "\n",
    "train_loader = DataLoader(dataset=training_dataset, batch_size=batch_size, shuffle=True)\n",
    "test_loader = DataLoader(dataset=test_dataset, batch_size=batch_size, shuffle=False)\n",
    "\n",
    "# examples = iter(train_loader)\n",
    "# samples, labels = next(examples)\n",
    "\n",
    "# for i in range(6):\n",
    "#     plt.subplot(2, 3, i+1)\n",
    "#     plt.imshow(samples[i][0], cmap=\"gray\")\n",
    "\n",
    "# plt.show()\n",
    "\n",
    "class NeuralNet(nn.Module):\n",
    "    \n",
    "    def __init__(self, input_size, hidden_size, num_classes):\n",
    "        super(NeuralNet, self).__init__()\n",
    "        self.l1 = nn.Linear(input_size, hidden_size)\n",
    "        self.relu = nn.ReLU()\n",
    "        self.l2 = nn.Linear(hidden_size, num_classes)\n",
    "        \n",
    "    def forward(self, x):\n",
    "        out = self.l1(x)\n",
    "        out = self.relu(out)\n",
    "        out = self.l2(out)\n",
    "        return out\n",
    "\n",
    "model = NeuralNet(input_size, hidden_size, num_classes).to(device)\n",
    "criterion = nn.CrossEntropyLoss()\n",
    "optimizer = torch.optim.Adam(model.parameters(), lr=learning_rate)\n",
    "\n",
    "n_total_steps = len(train_loader)\n",
    "\n",
    "print(f\"Using device '{device}'\")\n",
    "\n",
    "# Training\n",
    "for epoch in range(num_epochs):\n",
    "    for i, (images, labels) in enumerate(train_loader):\n",
    "        images = images.reshape(-1, 28*28).to(device)\n",
    "        labels = labels.to(device)\n",
    "        \n",
    "        # forward\n",
    "        outputs = model(images)\n",
    "        loss = criterion(outputs, labels)\n",
    "\n",
    "        # backward\n",
    "        optimizer.zero_grad()\n",
    "        loss.backward()\n",
    "        optimizer.step()\n",
    "        \n",
    "        if (i+1) % 100 == 0:\n",
    "            print(f\"Epoch {epoch+1}/{num_epochs}, step {i+1}/{n_total_steps}, loss = {loss.item():.4f}\")\n",
    "\n",
    "# Test          \n",
    "with torch.no_grad():\n",
    "    n_correct = 0\n",
    "    n_samples = 0\n",
    "    \n",
    "    for images, labels in test_loader:\n",
    "        images = images.reshape(-1, 28*28).to(device)\n",
    "        labels = labels.to(device)\n",
    "        outputs = model(images)\n",
    "        \n",
    "        # value, index\n",
    "        _, predictions = torch.max(outputs, 1)\n",
    "        \n",
    "        n_samples += labels.shape[0]\n",
    "        n_correct += (predictions == labels).sum().item()\n",
    "        \n",
    "    acc = 100.0 * n_correct / n_samples\n",
    "    print(f\"Accuracy = {acc} %\")"
   ]
  },
  {
   "cell_type": "markdown",
   "metadata": {},
   "source": [
    "### Convolutional Neural Networks (CNN)\n",
    "\n",
    "Image classification using CIFAR-10"
   ]
  },
  {
   "cell_type": "code",
   "execution_count": 28,
   "metadata": {},
   "outputs": [
    {
     "name": "stdout",
     "output_type": "stream",
     "text": [
      "Files already downloaded and verified\n",
      "Files already downloaded and verified\n",
      "Using device 'cuda'\n",
      "Epoch 1/4, step 2000/12500, loss = 2.2747\n",
      "Epoch 1/4, step 4000/12500, loss = 2.2853\n",
      "Epoch 1/4, step 6000/12500, loss = 2.3060\n",
      "Epoch 1/4, step 8000/12500, loss = 2.2679\n",
      "Epoch 1/4, step 10000/12500, loss = 2.2173\n",
      "Epoch 1/4, step 12000/12500, loss = 1.9701\n",
      "Epoch 2/4, step 2000/12500, loss = 1.7706\n",
      "Epoch 2/4, step 4000/12500, loss = 2.1498\n",
      "Epoch 2/4, step 6000/12500, loss = 2.1285\n",
      "Epoch 2/4, step 8000/12500, loss = 1.4128\n",
      "Epoch 2/4, step 10000/12500, loss = 1.6196\n",
      "Epoch 2/4, step 12000/12500, loss = 2.0395\n",
      "Epoch 3/4, step 2000/12500, loss = 2.0523\n",
      "Epoch 3/4, step 4000/12500, loss = 1.8692\n",
      "Epoch 3/4, step 6000/12500, loss = 0.7499\n",
      "Epoch 3/4, step 8000/12500, loss = 1.8559\n",
      "Epoch 3/4, step 10000/12500, loss = 1.7096\n",
      "Epoch 3/4, step 12000/12500, loss = 1.8108\n",
      "Epoch 4/4, step 2000/12500, loss = 1.7889\n",
      "Epoch 4/4, step 4000/12500, loss = 1.1546\n",
      "Epoch 4/4, step 6000/12500, loss = 1.8330\n",
      "Epoch 4/4, step 8000/12500, loss = 1.5774\n",
      "Epoch 4/4, step 10000/12500, loss = 1.6412\n",
      "Epoch 4/4, step 12000/12500, loss = 1.4843\n",
      "Finished Training\n",
      "Accuracy (Network) = 47.3 %\n",
      "Accuracy (Class plane) = 55.5 %\n",
      "Accuracy (Class car) = 75.5 %\n",
      "Accuracy (Class bird) = 25.9 %\n",
      "Accuracy (Class cat) = 28.8 %\n",
      "Accuracy (Class deer) = 26.7 %\n",
      "Accuracy (Class dog) = 51.2 %\n",
      "Accuracy (Class frog) = 62.4 %\n",
      "Accuracy (Class horse) = 55.2 %\n",
      "Accuracy (Class ship) = 49.2 %\n",
      "Accuracy (Class truck) = 42.6 %\n"
     ]
    }
   ],
   "source": [
    "# Hyper parameters\n",
    "num_epochs = 4\n",
    "batch_size = 4\n",
    "learning_rate = 0.001\n",
    "\n",
    "# Dataset\n",
    "transform = torchvision.transforms.Compose([torchvision.transforms.ToTensor(), torchvision.transforms.Normalize((0.5, 0.5, 0.5), (0.5, 0.5, 0.5))])\n",
    "\n",
    "training_dataset = torchvision.datasets.CIFAR10(root=\"./data\", train=True, transform=transform, download=True)\n",
    "test_dataset = torchvision.datasets.CIFAR10(root=\"./data\", train=False, transform=transform, download=True)\n",
    "\n",
    "train_loader = DataLoader(training_dataset, batch_size=batch_size, shuffle=True)\n",
    "test_loader = DataLoader(test_dataset, batch_size=batch_size, shuffle=False)\n",
    "\n",
    "classes = (\"plane\", \"car\", \"bird\", \"cat\", \"deer\", \"dog\", \"frog\", \"horse\", \"ship\", \"truck\")\n",
    "\n",
    "# Network\n",
    "class ConvNet(nn.Module):\n",
    "    \n",
    "    def __init__(self):\n",
    "        super(ConvNet, self).__init__()\n",
    "        self.conv1 = nn.Conv2d(3, 6, 5)\n",
    "        self.pool = nn.MaxPool2d(2, 2)\n",
    "        self.conv2 = nn.Conv2d(6, 16, 5)\n",
    "        self.fc1 = nn.Linear(16*5*5, 120)  # 16*5*5 is the input size resulting from last pooling\n",
    "        self.fc2 = nn.Linear(120, 84)\n",
    "        self.fc3 = nn.Linear(84, 10)\n",
    "    \n",
    "    def forward(self, x):\n",
    "        x = self.pool(F.relu(self.conv1(x)))\n",
    "        x = self.pool(F.relu(self.conv2(x)))\n",
    "        x = x.view(-1, 16*5*5)\n",
    "        x = F.relu(self.fc1(x))\n",
    "        x = F.relu(self.fc2(x))\n",
    "        x = self.fc3(x)\n",
    "        return x\n",
    "        \n",
    "    \n",
    "model = ConvNet().to(device)\n",
    "\n",
    "criterion = nn.CrossEntropyLoss()\n",
    "optimizer = torch.optim.SGD(model.parameters(), lr=learning_rate)\n",
    "\n",
    "n_total_steps = len(train_loader)\n",
    "\n",
    "print(f\"Using device '{device}'\")\n",
    "    \n",
    "# Training\n",
    "for epoch in range(num_epochs):\n",
    "    for i, (images, labels) in enumerate(train_loader):\n",
    "        images = images.to(device)\n",
    "        labels = labels.to(device)\n",
    "        \n",
    "        # Forward\n",
    "        outputs = model(images)\n",
    "        loss = criterion(outputs, labels)\n",
    "        \n",
    "        # Backward\n",
    "        optimizer.zero_grad()\n",
    "        loss.backward()\n",
    "        optimizer.step()\n",
    "        \n",
    "        if (i+1) % 2000 == 0:\n",
    "            print(f\"Epoch {epoch+1}/{num_epochs}, step {i+1}/{n_total_steps}, loss = {loss.item():.4f}\")\n",
    "\n",
    "print(\"Finished Training\")\n",
    "        \n",
    "# Test\n",
    "with torch.no_grad():\n",
    "    n_correct = 0\n",
    "    n_samples = 0\n",
    "    n_class_correct = [0 for _ in range(10)]\n",
    "    n_class_samples = [0 for _ in range(10)]\n",
    "    \n",
    "    for images, labels in test_loader:\n",
    "        images = images.to(device)\n",
    "        labels = labels.to(device)\n",
    "        \n",
    "        outputs = model(images)\n",
    "        \n",
    "        _, predicted = torch.max(outputs, 1)\n",
    "        n_samples += labels.size(0)\n",
    "        n_correct += (predicted == labels).sum().item()\n",
    "        \n",
    "        for i in range(batch_size):\n",
    "            label = labels[i]\n",
    "            pred = predicted[i]\n",
    "            \n",
    "            if label == pred:\n",
    "                n_class_correct[label] += 1\n",
    "            \n",
    "            n_class_samples[label] += 1\n",
    "            \n",
    "    acc = 100.0 * n_correct / n_samples\n",
    "    print(f\"Accuracy (Network) = {acc} %\")\n",
    "    \n",
    "    for i in range(10):\n",
    "        acc = 100 * n_class_correct[i] / n_class_samples[i]\n",
    "        print(f\"Accuracy (Class {classes[i]}) = {acc} %\")"
   ]
  },
  {
   "cell_type": "markdown",
   "metadata": {},
   "source": [
    "### Transfer Learning"
   ]
  },
  {
   "cell_type": "code",
   "execution_count": null,
   "metadata": {},
   "outputs": [],
   "source": []
  },
  {
   "cell_type": "markdown",
   "metadata": {},
   "source": [
    "### Save & Load Models"
   ]
  },
  {
   "cell_type": "code",
   "execution_count": null,
   "metadata": {},
   "outputs": [],
   "source": []
  }
 ],
 "metadata": {
  "kernelspec": {
   "display_name": "data-analysis",
   "language": "python",
   "name": "python3"
  },
  "language_info": {
   "codemirror_mode": {
    "name": "ipython",
    "version": 3
   },
   "file_extension": ".py",
   "mimetype": "text/x-python",
   "name": "python",
   "nbconvert_exporter": "python",
   "pygments_lexer": "ipython3",
   "version": "3.10.12"
  },
  "orig_nbformat": 4
 },
 "nbformat": 4,
 "nbformat_minor": 2
}
